{
 "cells": [
  {
   "cell_type": "code",
   "execution_count": 1,
   "id": "b71e730f",
   "metadata": {},
   "outputs": [],
   "source": [
    "import opvious.modeling as om"
   ]
  },
  {
   "cell_type": "markdown",
   "id": "d648deec",
   "metadata": {},
   "source": [
    "# Set cover model\n",
    "\n",
    "This is a sample description."
   ]
  },
  {
   "cell_type": "code",
   "execution_count": 2,
   "id": "3d0410b6",
   "metadata": {},
   "outputs": [
    {
     "data": {
      "text/markdown": [
       "<details open>\n",
       "<summary style=\"cursor:pointer;\">\n",
       "<code>SetCover</code> (dimension: 2, parameter: 1, variable: 1, constraint: 1, objective: 1)\n",
       "</summary>\n",
       "\n",
       "$$\n",
       "\\begin{align*}\n",
       "  \\S^d_\\mathrm{sets}&: S \\\\\n",
       "  \\S^d_\\mathrm{vertices}&: V \\\\\n",
       "  \\S^p_\\mathrm{covers}&: c \\in \\{0, 1\\}^{S \\times V} \\\\\n",
       "  \\S^v_\\mathrm{used}&: \\psi \\in \\{0, 1\\}^{S} \\\\\n",
       "  \\S^c_\\mathrm{allCovered}&: \\forall v \\in V, \\sum_{s \\in S} \\psi_{s} c_{s,v} \\geq 1 \\\\\n",
       "  \\S^o_\\mathrm{minimizeSets}&: \\min \\sum_{s \\in S} \\psi_{s} \\\\\n",
       "\\end{align*}\n",
       "$$\n",
       "</details>"
      ],
      "text/plain": [
       "LocalSpecification(sources=[LocalSpecificationSource(text='$$\\n\\\\begin{align*}\\n  \\\\S^d_\\\\mathrm{sets}&: S \\\\\\\\\\n  \\\\S^d_\\\\mathrm{vertices}&: V \\\\\\\\\\n  \\\\S^p_\\\\mathrm{covers}&: c \\\\in \\\\{0, 1\\\\}^{S \\\\times V} \\\\\\\\\\n  \\\\S^v_\\\\mathrm{used}&: \\\\psi \\\\in \\\\{0, 1\\\\}^{S} \\\\\\\\\\n  \\\\S^c_\\\\mathrm{allCovered}&: \\\\forall v \\\\in V, \\\\sum_{s \\\\in S} \\\\psi_{s} c_{s,v} \\\\geq 1 \\\\\\\\\\n  \\\\S^o_\\\\mathrm{minimizeSets}&: \\\\min \\\\sum_{s \\\\in S} \\\\psi_{s} \\\\\\\\\\n\\\\end{align*}\\n$$', title='<code>SetCover</code>')], description=None, annotation=LocalSpecificationAnnotation(issue_count=0, issues=[[]], counts=[Counter({'dimension': 2, 'parameter': 1, 'variable': 1, 'constraint': 1, 'objective': 1})]))"
      ]
     },
     "execution_count": 2,
     "metadata": {},
     "output_type": "execute_result"
    }
   ],
   "source": [
    "class SetCover(om.Model):\n",
    "    sets = om.Dimension()\n",
    "    vertices = om.Dimension()\n",
    "    covers = om.Parameter.indicator(sets, vertices)\n",
    "    used = om.Variable.indicator(sets)\n",
    "\n",
    "    @om.constraint\n",
    "    def all_covered(self):\n",
    "        for v in self.vertices:\n",
    "            count = om.total(\n",
    "                self.used(s) * self.covers(s, v) for s in self.sets\n",
    "            )\n",
    "            yield count >= 1\n",
    "\n",
    "    @om.objective\n",
    "    def minimize_sets(self):\n",
    "        return om.total(self.used(s) for s in self.sets)\n",
    "    \n",
    "model = SetCover()\n",
    "await model.compile_specification()"
   ]
  },
  {
   "cell_type": "code",
   "execution_count": null,
   "id": "3c87c3a1",
   "metadata": {},
   "outputs": [],
   "source": []
  }
 ],
 "metadata": {
  "kernelspec": {
   "display_name": "Python 3 (ipykernel)",
   "language": "python",
   "name": "python3"
  },
  "language_info": {
   "codemirror_mode": {
    "name": "ipython",
    "version": 3
   },
   "file_extension": ".py",
   "mimetype": "text/x-python",
   "name": "python",
   "nbconvert_exporter": "python",
   "pygments_lexer": "ipython3",
   "version": "3.11.3"
  }
 },
 "nbformat": 4,
 "nbformat_minor": 5
}
