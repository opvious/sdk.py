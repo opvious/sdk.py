{
 "cells": [
  {
   "cell_type": "code",
   "execution_count": 1,
   "id": "b71e730f",
   "metadata": {},
   "outputs": [],
   "source": [
    "import opvious.modeling as om"
   ]
  },
  {
   "cell_type": "markdown",
   "id": "d648deec",
   "metadata": {},
   "source": [
    "# Set cover model\n",
    "\n",
    "This is a sample description."
   ]
  },
  {
   "cell_type": "code",
   "execution_count": 2,
   "id": "3d0410b6",
   "metadata": {},
   "outputs": [
    {
     "ename": "AttributeError",
     "evalue": "type object 'Parameter' has no attribute 'indicator'",
     "output_type": "error",
     "traceback": [
      "\u001b[0;31m---------------------------------------------------------------------------\u001b[0m",
      "\u001b[0;31mAttributeError\u001b[0m                            Traceback (most recent call last)",
      "Cell \u001b[0;32mIn[2], line 1\u001b[0m\n\u001b[0;32m----> 1\u001b[0m \u001b[38;5;28;43;01mclass\u001b[39;49;00m\u001b[43m \u001b[49m\u001b[38;5;21;43;01mSetCover\u001b[39;49;00m\u001b[43m(\u001b[49m\u001b[43mom\u001b[49m\u001b[38;5;241;43m.\u001b[39;49m\u001b[43mModel\u001b[49m\u001b[43m)\u001b[49m\u001b[43m:\u001b[49m\n\u001b[1;32m      2\u001b[0m \u001b[43m    \u001b[49m\u001b[43msets\u001b[49m\u001b[43m \u001b[49m\u001b[38;5;241;43m=\u001b[39;49m\u001b[43m \u001b[49m\u001b[43mom\u001b[49m\u001b[38;5;241;43m.\u001b[39;49m\u001b[43mDimension\u001b[49m\u001b[43m(\u001b[49m\u001b[43m)\u001b[49m\n\u001b[1;32m      3\u001b[0m \u001b[43m    \u001b[49m\u001b[43mvertices\u001b[49m\u001b[43m \u001b[49m\u001b[38;5;241;43m=\u001b[39;49m\u001b[43m \u001b[49m\u001b[43mom\u001b[49m\u001b[38;5;241;43m.\u001b[39;49m\u001b[43mDimension\u001b[49m\u001b[43m(\u001b[49m\u001b[43m)\u001b[49m\n",
      "Cell \u001b[0;32mIn[2], line 4\u001b[0m, in \u001b[0;36mSetCover\u001b[0;34m()\u001b[0m\n\u001b[1;32m      2\u001b[0m sets \u001b[38;5;241m=\u001b[39m om\u001b[38;5;241m.\u001b[39mDimension()\n\u001b[1;32m      3\u001b[0m vertices \u001b[38;5;241m=\u001b[39m om\u001b[38;5;241m.\u001b[39mDimension()\n\u001b[0;32m----> 4\u001b[0m covers \u001b[38;5;241m=\u001b[39m \u001b[43mom\u001b[49m\u001b[38;5;241;43m.\u001b[39;49m\u001b[43mParameter\u001b[49m\u001b[38;5;241;43m.\u001b[39;49m\u001b[43mindicator\u001b[49m(sets, vertices)\n\u001b[1;32m      5\u001b[0m used \u001b[38;5;241m=\u001b[39m om\u001b[38;5;241m.\u001b[39mVariable\u001b[38;5;241m.\u001b[39mindicator(sets)\n\u001b[1;32m      7\u001b[0m \u001b[38;5;129m@om\u001b[39m\u001b[38;5;241m.\u001b[39mconstraint\n\u001b[1;32m      8\u001b[0m \u001b[38;5;28;01mdef\u001b[39;00m \u001b[38;5;21mall_covered\u001b[39m(\u001b[38;5;28mself\u001b[39m):\n",
      "\u001b[0;31mAttributeError\u001b[0m: type object 'Parameter' has no attribute 'indicator'"
     ]
    }
   ],
   "source": [
    "class SetCover(om.Model):\n",
    "    sets = om.Dimension()\n",
    "    vertices = om.Dimension()\n",
    "    covers = om.Parameter.indicator(sets, vertices)\n",
    "    used = om.Variable.indicator(sets)\n",
    "\n",
    "    @om.constraint\n",
    "    def all_covered(self):\n",
    "        for v in self.vertices:\n",
    "            count = om.total(\n",
    "                self.used(s) * self.covers(s, v) for s in self.sets\n",
    "            )\n",
    "            yield count >= 1\n",
    "\n",
    "    @om.objective\n",
    "    def minimize_sets(self):\n",
    "        return om.total(self.used(s) for s in self.sets)\n",
    "    \n",
    "model = SetCover()"
   ]
  },
  {
   "cell_type": "code",
   "execution_count": null,
   "id": "3c87c3a1",
   "metadata": {},
   "outputs": [],
   "source": []
  }
 ],
 "metadata": {
  "kernelspec": {
   "display_name": "Python 3 (ipykernel)",
   "language": "python",
   "name": "python3"
  },
  "language_info": {
   "codemirror_mode": {
    "name": "ipython",
    "version": 3
   },
   "file_extension": ".py",
   "mimetype": "text/x-python",
   "name": "python",
   "nbconvert_exporter": "python",
   "pygments_lexer": "ipython3",
   "version": "3.11.3"
  }
 },
 "nbformat": 4,
 "nbformat_minor": 5
}
